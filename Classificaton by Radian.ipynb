{
 "cells": [
  {
   "cell_type": "code",
   "execution_count": 18,
   "metadata": {},
   "outputs": [
    {
     "data": {
      "image/png": "[encoded data removed]",
      "text/plain": [
       "<matplotlib.figure.Figure at 0x1fb3f7f6dd8>"
      ]
     },
     "metadata": {},
     "output_type": "display_data"
    }
   ],
   "source": [
    "%matplotlib inline\n",
    "import numpy as np\n",
    "import matplotlib.pyplot as plt\n",
    "raw_data=np.array([[1,10,-1],[1,9,-1],[2,8,-1],[10,1,1],[3,7,1],[4,3,1]])\n",
    "train_x=raw_data[:,0:2]\n",
    "train_y=raw_data[:,2]\n",
    "\n",
    "plt.plot(train_x[train_y==-1,0],train_x[train_y==-1,1],'bs')\n",
    "plt.plot(train_x[train_y==1,0],train_x[train_y==1,1],'bo')\n",
    "\n",
    "# weight vector\n",
    "r=10.\n",
    "rad=0\n",
    "w=np.array([r,0])\n",
    "\n",
    "def update_weight(radian):\n",
    "    global rad\n",
    "    rad=radian\n",
    "    w[0]=r*np.cos(radian)\n",
    "    w[1]=r*np.sin(radian)\n",
    "#     print('deg: %f, w: %s'%(rad,str(w)))\n",
    "\n",
    "def recognition_function(x):\n",
    "    if np.dot(w,x)>=0:\n",
    "        return 1\n",
    "    else:\n",
    "        return -1\n",
    "\n",
    "count=0\n",
    "for i in range(0,360,5):\n",
    "    count+=1\n",
    "    update_weight(np.pi*2*(i/360))\n",
    "    verified=True\n",
    "    for x,y in zip(train_x,train_y):\n",
    "        if recognition_function(x)!=y:\n",
    "            verified=False\n",
    "    if verified:\n",
    "       break\n",
    "update_weight(rad+np.pi/2)\n",
    "plt.plot(np.linspace(0,w[0],10),np.linspace(0,w[1],10))\n",
    "plt.show()"
   ]
  }
 ],
 "metadata": {
  "kernelspec": {
   "display_name": "Python 3",
   "language": "python",
   "name": "python3"
  },
  "language_info": {
   "codemirror_mode": {
    "name": "ipython",
    "version": 3
   },
   "file_extension": ".py",
   "mimetype": "text/x-python",
   "name": "python",
   "nbconvert_exporter": "python",
   "pygments_lexer": "ipython3",
   "version": "3.6.4"
  }
 },
 "nbformat": 4,
 "nbformat_minor": 2
}
