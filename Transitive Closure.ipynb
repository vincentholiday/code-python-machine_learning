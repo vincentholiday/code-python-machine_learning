{
 "cells": [
  {
   "cell_type": "markdown",
   "metadata": {},
   "source": [
    "## The relationship"
   ]
  },
  {
   "cell_type": "code",
   "execution_count": 3,
   "metadata": {},
   "outputs": [
    {
     "name": "stdout",
     "output_type": "stream",
     "text": [
      "[[0, 1, 0, 0, 0, 0, 0, 0, 0, 0],\n",
      " [0, 0, 0, 1, 0, 0, 0, 0, 0, 0],\n",
      " [0, 0, 0, 0, 1, 0, 0, 0, 0, 0],\n",
      " [0, 0, 1, 0, 0, 0, 0, 0, 0, 0],\n",
      " [0, 0, 0, 0, 0, 1, 1, 0, 0, 1],\n",
      " [0, 0, 0, 0, 0, 0, 0, 0, 0, 0],\n",
      " [0, 0, 0, 0, 0, 0, 0, 1, 0, 0],\n",
      " [0, 0, 0, 0, 0, 0, 0, 0, 1, 0],\n",
      " [0, 0, 0, 0, 0, 0, 0, 0, 0, 0],\n",
      " [0, 0, 0, 0, 0, 0, 0, 0, 0, 0]]\n",
      "I was acquainted with: ['Coding']\n",
      "[[0, 1, 1, 1, 1, 1, 1, 1, 1, 1],\n",
      " [0, 0, 1, 1, 1, 1, 1, 1, 1, 1],\n",
      " [0, 0, 0, 0, 1, 1, 1, 1, 1, 1],\n",
      " [0, 0, 1, 0, 1, 1, 1, 1, 1, 1],\n",
      " [0, 0, 0, 0, 0, 1, 1, 1, 1, 1],\n",
      " [0, 0, 0, 0, 0, 0, 0, 0, 0, 0],\n",
      " [0, 0, 0, 0, 0, 0, 0, 1, 1, 0],\n",
      " [0, 0, 0, 0, 0, 0, 0, 0, 1, 0],\n",
      " [0, 0, 0, 0, 0, 0, 0, 0, 0, 0],\n",
      " [0, 0, 0, 0, 0, 0, 0, 0, 0, 0]]\n",
      "I become acquainted with: ['Coding', 'Math', 'Youtube', 'Tibees', 'MIT', 'Instagram', 'Toby', 'Physics', 'ANU']\n"
     ]
    }
   ],
   "source": [
    "from pprint import pprint\n",
    "id_name_map={0:'Vincent Yu',1:'Coding',2:'Math',3:'Youtube',4:'Tibees',5:'MIT',6:'Instagram',7:'Toby',8:'Physics',9:'ANU'}\n",
    "friendships=[(0,1),(1,3),(3,2),(2,4),(4,5),(4,6),(4,9),(6,7),(7,8)]\n",
    "n=len(id_name_map.keys())\n",
    "\n",
    "def make_matrix(num_rows,num_cols,entry_fn):\n",
    "    return [[entry_fn(i,j) for j in range(num_cols)] \n",
    "            for i in range(num_rows)]\n",
    "\n",
    "def is_friend(i,j):\n",
    "    relation=(i,j)\n",
    "    return 1 if relation in friendships else 0\n",
    "\n",
    "def matrix_multiply(m1,m2,n):\n",
    "    m3=[[0 for _ in range(n)] for _ in range(n)]\n",
    "    for i in range(n):\n",
    "        for j in range(n):\n",
    "            for k in range(n):\n",
    "                m3[i][j]+=m1[i][k]*m2[k][j]\n",
    "            m3[i][j]=1 if m3[i][j]>0 else 0\n",
    "    return m3\n",
    "\n",
    "fs_matrix=make_matrix(n,n,is_friend)\n",
    "pprint(fs_matrix)\n",
    "print('I was acquainted with: '+str([id_name_map[id] for id in range(1,n) if fs_matrix[0][id] > 0]))\n",
    "\n",
    "matrices=[]\n",
    "matrices.append(fs_matrix)\n",
    "for i in range(1,n):\n",
    "    matrices.append(matrix_multiply(matrices[i-1],fs_matrix,n))\n",
    "for i in range(n):\n",
    "    for j in range(n):\n",
    "        tmp=0\n",
    "        for k in range(n):\n",
    "            if matrices[k][i][j]>0:\n",
    "                tmp=1\n",
    "        fs_matrix[i][j]=tmp\n",
    "pprint(fs_matrix)\n",
    "print('I become acquainted with: '+str([id_name_map[id] for id in range(1,n) if fs_matrix[0][id] > 0]))"
   ]
  },
  {
   "cell_type": "code",
   "execution_count": null,
   "metadata": {},
   "outputs": [],
   "source": []
  }
 ],
 "metadata": {
  "kernelspec": {
   "display_name": "Python 3",
   "language": "python",
   "name": "python3"
  },
  "language_info": {
   "codemirror_mode": {
    "name": "ipython",
    "version": 3
   },
   "file_extension": ".py",
   "mimetype": "text/x-python",
   "name": "python",
   "nbconvert_exporter": "python",
   "pygments_lexer": "ipython3",
   "version": "3.6.4"
  }
 },
 "nbformat": 4,
 "nbformat_minor": 2
}
